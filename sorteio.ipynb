{
 "cells": [
  {
   "cell_type": "code",
   "execution_count": 21,
   "metadata": {},
   "outputs": [
    {
     "name": "stdout",
     "output_type": "stream",
     "text": [
      "Jogos sugeridos:\n",
      "\n",
      "   Bola1  Bola2  Bola3  Bola4  Bola5  Bola6\n",
      "0      6     23     25     48     56     57\n",
      "1     40     44     47     48     50     55\n",
      "2      2      7     18     20     34     43\n",
      "3     16     23     25     28     51     54\n",
      "4      6     10     35     46     53     58\n",
      "5     10     32     38     52     54     55\n",
      "6     15     21     22     26     46     54\n",
      "7     11     26     30     44     48     51\n"
     ]
    }
   ],
   "source": [
    "import pandas as pd\n",
    "import random\n",
    "\n",
    "df = pd.read_excel(r\"C:\\Users\\Sávio\\Documents\\ds2025\\MegaDaVirada\\mega.xlsx\", sheet_name='loteria')\n",
    "\n",
    "sequencias_anteriores = df[['bola 1', 'bola 2', 'bola 3', 'bola 4', 'bola 5', 'bola 6']]\n",
    "sequencias_anteriores_list = sequencias_anteriores.values.tolist()\n",
    "\n",
    "def gerar_sequencia_unica(sequencias_existentes):\n",
    "    while True:\n",
    "        nova_sequencia = sorted(random.sample(range(1, 61), 6))  # Gera 6 números únicos entre 1 e 60\n",
    "        if nova_sequencia not in sequencias_existentes:\n",
    "            return nova_sequencia\n",
    "\n",
    "novos_jogos = []\n",
    "quantidade_de_jogos = 8\n",
    "\n",
    "for _ in range(quantidade_de_jogos):\n",
    "    jogo = gerar_sequencia_unica(sequencias_anteriores_list + novos_jogos)\n",
    "    novos_jogos.append(jogo)\n",
    "\n",
    "novos_jogos_df = pd.DataFrame(novos_jogos, columns=[\"Bola1\", \"Bola2\", \"Bola3\", \"Bola4\", \"Bola5\", \"Bola6\"])\n",
    "print(\"Jogos sugeridos:\\n\")\n",
    "print(novos_jogos_df)"
   ]
  }
 ],
 "metadata": {
  "kernelspec": {
   "display_name": "Python 3",
   "language": "python",
   "name": "python3"
  },
  "language_info": {
   "codemirror_mode": {
    "name": "ipython",
    "version": 3
   },
   "file_extension": ".py",
   "mimetype": "text/x-python",
   "name": "python",
   "nbconvert_exporter": "python",
   "pygments_lexer": "ipython3",
   "version": "3.11.4"
  }
 },
 "nbformat": 4,
 "nbformat_minor": 2
}
